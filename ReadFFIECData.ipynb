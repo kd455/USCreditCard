{
 "cells": [
  {
   "cell_type": "code",
   "execution_count": 1,
   "metadata": {},
   "outputs": [
    {
     "name": "stdout",
     "output_type": "stream",
     "text": [
      "Reading from csv\n"
     ]
    }
   ],
   "source": [
    "import pandas as pd\n",
    "from pathlib import Path\n",
    "import datautils as du"
   ]
  },
  {
   "cell_type": "markdown",
   "metadata": {},
   "source": [
    "Data Exploration: https://public.tableau.com/app/profile/kate.dobinson/viz/USFFIECExploration/SummaryRatios#1\n"
   ]
  },
  {
   "cell_type": "code",
   "execution_count": null,
   "metadata": {},
   "outputs": [],
   "source": [
    "firm_peers_path = \"Data/FirmPeers\"\n",
    "df = pd.DataFrame()\n",
    "for file in Path(firm_peers_path).glob(\"*.txt\"):\n",
    "    try:\n",
    "        print(f\"Reading file {file}\")\n",
    "        detail = pd.read_csv(file, sep=\"\\t\", skiprows=5)\n",
    "        first_row = pd.read_csv(file, nrows=1, header=None).iloc[0,0].replace(\"List of Banks in Peer Group -- \", \"\")\n",
    "        detail['Peer'] = first_row\n",
    "        df = pd.concat([df, detail],axis=0)        \n",
    "    except FileNotFoundError:\n",
    "        print(f\"File {file} not found.\")\n",
    "    except pd.errors.ParserError:\n",
    "        print(f\"Error parsing file {file}. Check if the file is tab-separated and has a header row.\")\n",
    "df.to_csv(\"Data/FirmPeers.csv\", index=False)\n",
    "du.write_data_to_db(df, \"Peers\", truncate=True)\n"
   ]
  },
  {
   "cell_type": "code",
   "execution_count": null,
   "metadata": {},
   "outputs": [],
   "source": [
    "#UBPR ratio extract\n",
    "du.complete_extract(download_path = 'D:/repos/Python/USCreditCard/Data/Ratios', output_path = 'D:/repos/Python/USCreditCard/Data/BulkRatios/', pattern = 'FFIEC CDR Bulk All UBPR Ratios*.zip')"
   ]
  },
  {
   "cell_type": "code",
   "execution_count": 22,
   "metadata": {},
   "outputs": [
    {
     "name": "stdout",
     "output_type": "stream",
     "text": [
      "Reading file Data\\POR\\FFIEC CDR Call Bulk POR 03312016.txt\n",
      "Reading file Data\\POR\\FFIEC CDR Call Bulk POR 03312017.txt\n",
      "Reading file Data\\POR\\FFIEC CDR Call Bulk POR 03312018.txt\n",
      "Reading file Data\\POR\\FFIEC CDR Call Bulk POR 03312019.txt\n",
      "Reading file Data\\POR\\FFIEC CDR Call Bulk POR 03312020.txt\n",
      "Reading file Data\\POR\\FFIEC CDR Call Bulk POR 03312021.txt\n",
      "Reading file Data\\POR\\FFIEC CDR Call Bulk POR 03312022.txt\n",
      "Reading file Data\\POR\\FFIEC CDR Call Bulk POR 03312023.txt\n",
      "Reading file Data\\POR\\FFIEC CDR Call Bulk POR 06302016.txt\n",
      "Reading file Data\\POR\\FFIEC CDR Call Bulk POR 06302017.txt\n",
      "Reading file Data\\POR\\FFIEC CDR Call Bulk POR 06302018.txt\n",
      "Reading file Data\\POR\\FFIEC CDR Call Bulk POR 06302019.txt\n",
      "Reading file Data\\POR\\FFIEC CDR Call Bulk POR 06302020.txt\n",
      "Reading file Data\\POR\\FFIEC CDR Call Bulk POR 06302021.txt\n",
      "Reading file Data\\POR\\FFIEC CDR Call Bulk POR 06302022.txt\n",
      "Reading file Data\\POR\\FFIEC CDR Call Bulk POR 06302023.txt\n",
      "Reading file Data\\POR\\FFIEC CDR Call Bulk POR 09302015.txt\n",
      "Reading file Data\\POR\\FFIEC CDR Call Bulk POR 09302016.txt\n",
      "Reading file Data\\POR\\FFIEC CDR Call Bulk POR 09302017.txt\n",
      "Reading file Data\\POR\\FFIEC CDR Call Bulk POR 09302018.txt\n",
      "Reading file Data\\POR\\FFIEC CDR Call Bulk POR 09302019.txt\n",
      "Reading file Data\\POR\\FFIEC CDR Call Bulk POR 09302020.txt\n",
      "Reading file Data\\POR\\FFIEC CDR Call Bulk POR 09302021.txt\n",
      "Reading file Data\\POR\\FFIEC CDR Call Bulk POR 09302022.txt\n",
      "Reading file Data\\POR\\FFIEC CDR Call Bulk POR 12312015.txt\n",
      "Reading file Data\\POR\\FFIEC CDR Call Bulk POR 12312016.txt\n",
      "Reading file Data\\POR\\FFIEC CDR Call Bulk POR 12312017.txt\n",
      "Reading file Data\\POR\\FFIEC CDR Call Bulk POR 12312018.txt\n",
      "Reading file Data\\POR\\FFIEC CDR Call Bulk POR 12312019.txt\n",
      "Reading file Data\\POR\\FFIEC CDR Call Bulk POR 12312020.txt\n",
      "Reading file Data\\POR\\FFIEC CDR Call Bulk POR 12312021.txt\n",
      "Reading file Data\\POR\\FFIEC CDR Call Bulk POR 12312022.txt\n"
     ]
    }
   ],
   "source": [
    "#firm extract\n",
    "firm_path = Path(\"Data/POR\")\n",
    "df = pd.DataFrame()\n",
    "for file in Path(firm_path).glob(\"*.txt\"):\n",
    "    try:\n",
    "        print(f\"Reading file {file}\")\n",
    "        detail = pd.read_csv(file, sep=\"\\t\")\n",
    "        first_row = pd.read_csv(file, nrows=1, header=None).iloc[0,0].replace(\"List of Banks in Peer Group -- \", \"\")\n",
    "        df = pd.concat([df, detail],axis=0)        \n",
    "    except FileNotFoundError:\n",
    "        print(f\"File {file} not found.\")\n",
    "    except pd.errors.ParserError:\n",
    "        print(f\"Error parsing file {file}. Check if the file is tab-separated and has a header row.\")\n",
    "df.sort_values(by=[ 'Last Date/Time Submission Updated On'], ascending=False, inplace=True)\n",
    "df.drop_duplicates(subset=['IDRSSD','Financial Institution Name'], inplace=True)\n",
    "df.to_csv(\"Data/Firms.csv\", index=False)"
   ]
  },
  {
   "cell_type": "markdown",
   "metadata": {},
   "source": [
    "duplicate Financial Institution Name"
   ]
  },
  {
   "cell_type": "code",
   "execution_count": 24,
   "metadata": {},
   "outputs": [
    {
     "data": {
      "text/plain": [
       "Financial Institution Name\n",
       "FIRST STATE BANK              58\n",
       "FARMERS STATE BANK            37\n",
       "FIRST NATIONAL BANK           26\n",
       "CITIZENS STATE BANK           25\n",
       "PEOPLES BANK                  20\n",
       "SECURITY STATE BANK           18\n",
       "CITIZENS BANK                 18\n",
       "COMMUNITY STATE BANK          17\n",
       "FIRST COMMUNITY BANK          16\n",
       "FARMERS AND MERCHANTS BANK    15\n",
       "Name: count, dtype: int64"
      ]
     },
     "execution_count": 24,
     "metadata": {},
     "output_type": "execute_result"
    }
   ],
   "source": [
    "df['Financial Institution Name'].value_counts().sort_values(ascending=False).head(10)"
   ]
  },
  {
   "cell_type": "code",
   "execution_count": 6,
   "metadata": {},
   "outputs": [],
   "source": [
    "bulk_ratios_path = Path('D:/repos/Python/USCreditCard/Data/BulkRatios/')\n",
    "labels = du.get_measure_user_label(Path('D:/repos/Python/USCreditCard/Data/MeasureLabels/'), '*.csv')\n",
    "summary_measures = du.get_measures(bulk_ratios_path, 'FFIEC CDR UBPR Ratios Summary Ratios 2023.txt', index_cols=['ID RSSD','Reporting Period'])\n",
    "off_balance = du.get_measures(bulk_ratios_path, 'FFIEC CDR UBPR Ratios Off Balance Sheet Items 2023.txt', index_cols=['ID RSSD','Reporting Period'])\n",
    "credit_conc = du.get_measures(bulk_ratios_path, 'FFIEC CDR UBPR Ratios Concentrations of Credit 2023.txt', index_cols=['ID RSSD','Reporting Period'])\n",
    "loan_ratios_a = du.get_measures(bulk_ratios_path, 'FFIEC CDR UBPR Ratios PD, Nonacc and Rest Loans-a 2023.txt', index_cols=['ID RSSD','Reporting Period'])\n",
    "loan_ratios_b = du.get_measures(bulk_ratios_path, 'FFIEC CDR UBPR Ratios PD, Nonacc and Rest Loans-b 2023.txt', index_cols=['ID RSSD','Reporting Period'])\n",
    "concepts = du.get_measures(bulk_ratios_path, 'FFIEC CDR UBPR Ratios Concept Not In Presentation 2023.txt', index_cols=['ID RSSD','Reporting Period'])\n",
    "bal_dollar = du.get_measures(bulk_ratios_path, 'FFIEC CDR UBPR Ratios Balance Sheet dollar 2023.txt', index_cols=['ID RSSD','Reporting Period'])\n",
    "loan_mix_a = du.get_measures(bulk_ratios_path,'FFIEC CDR UBPR Ratios Allowance and Loan Mix-a 2023.txt', index_cols=['ID RSSD','Reporting Period'])\n",
    "loan_mix_b = du.get_measures(bulk_ratios_path,'FFIEC CDR UBPR Ratios Allowance and Loan Mix-b 2023.txt', index_cols=['ID RSSD','Reporting Period'])\n",
    "income = du.get_measures(bulk_ratios_path,'FFIEC CDR UBPR Ratios Income Statement 1-Qtr-Ann 2023.txt', index_cols=['ID RSSD','Reporting Period'])\n",
    "all_measures = pd.concat([concepts,summary_measures,off_balance, credit_conc,loan_ratios_a, loan_ratios_b,loan_mix_a,loan_mix_b,income]).drop_duplicates(subset=['Measure'], keep='first')\n",
    "all_measures_label = all_measures.merge(labels, how='left', left_on='Measure', right_on='UBPR_Code')\n",
    "all_measures_label.drop(columns=['UBPR_Code'], inplace=True)\n",
    "all_measures_label.drop_duplicates(subset=['Measure'], keep='first', inplace=True)\n",
    "du.write_data_to_db(all_measures_label, 'Measures', truncate = True)\n"
   ]
  },
  {
   "cell_type": "code",
   "execution_count": null,
   "metadata": {},
   "outputs": [],
   "source": [
    "summary_files = du.get_ffiec_files(Path(\"Data/BulkRatios/\"), pattern = \"FFIEC CDR UBPR Ratios Summary Ratios*.txt\", index_cols=['ID RSSD','Reporting Period'])\n",
    "du.save_ffiec_ubpr_data(summary_files, output_path = \"Data/Generated/Ratios/\", overwrite = True)         \n",
    "du.write_data_using_bcp('UBPR_Ratio', 'Data/Generated/Ratios/', truncate_table = True)                      "
   ]
  },
  {
   "cell_type": "code",
   "execution_count": null,
   "metadata": {},
   "outputs": [],
   "source": [
    "credit_concentrations_files = du.get_ffiec_files(Path(\"Data/BulkRatios/\"), pattern = \"FFIEC CDR UBPR Ratios Concentrations of Credit*.txt\", index_cols=['ID RSSD','Reporting Period'])\n",
    "du.save_ffiec_ubpr_data(credit_concentrations_files, 'Data/Generated/Concentrations/', overwrite = True)\n",
    "du.write_data_using_bcp('UBPR_Credit_Concentration', 'Data/Generated/Concentrations/', truncate_table = True)"
   ]
  },
  {
   "cell_type": "code",
   "execution_count": 2,
   "metadata": {},
   "outputs": [
    {
     "name": "stdout",
     "output_type": "stream",
     "text": [
      "reading: FFIEC CDR UBPR Ratios PD, Nonacc and Rest Loans-b 2002.csv\n",
      "bcp Project2.dbo.UBPR_RatiosPD in \"d:/repos/Python/USCreditCard/Data/Generated/RatiosPD/FFIEC CDR UBPR Ratios PD, Nonacc and Rest Loans-b 2002.csv\"  -c -t \",\" -r \"0x0a\" -S DESKTOP-192EHDA -T -F 2\n",
      "reading: FFIEC CDR UBPR Ratios PD, Nonacc and Rest Loans-b 2003.csv\n",
      "bcp Project2.dbo.UBPR_RatiosPD in \"d:/repos/Python/USCreditCard/Data/Generated/RatiosPD/FFIEC CDR UBPR Ratios PD, Nonacc and Rest Loans-b 2003.csv\"  -c -t \",\" -r \"0x0a\" -S DESKTOP-192EHDA -T -F 2\n",
      "reading: FFIEC CDR UBPR Ratios PD, Nonacc and Rest Loans-b 2004.csv\n",
      "bcp Project2.dbo.UBPR_RatiosPD in \"d:/repos/Python/USCreditCard/Data/Generated/RatiosPD/FFIEC CDR UBPR Ratios PD, Nonacc and Rest Loans-b 2004.csv\"  -c -t \",\" -r \"0x0a\" -S DESKTOP-192EHDA -T -F 2\n",
      "reading: FFIEC CDR UBPR Ratios PD, Nonacc and Rest Loans-b 2005.csv\n",
      "bcp Project2.dbo.UBPR_RatiosPD in \"d:/repos/Python/USCreditCard/Data/Generated/RatiosPD/FFIEC CDR UBPR Ratios PD, Nonacc and Rest Loans-b 2005.csv\"  -c -t \",\" -r \"0x0a\" -S DESKTOP-192EHDA -T -F 2\n",
      "reading: FFIEC CDR UBPR Ratios PD, Nonacc and Rest Loans-b 2006.csv\n",
      "bcp Project2.dbo.UBPR_RatiosPD in \"d:/repos/Python/USCreditCard/Data/Generated/RatiosPD/FFIEC CDR UBPR Ratios PD, Nonacc and Rest Loans-b 2006.csv\"  -c -t \",\" -r \"0x0a\" -S DESKTOP-192EHDA -T -F 2\n",
      "reading: FFIEC CDR UBPR Ratios PD, Nonacc and Rest Loans-b 2007.csv\n",
      "bcp Project2.dbo.UBPR_RatiosPD in \"d:/repos/Python/USCreditCard/Data/Generated/RatiosPD/FFIEC CDR UBPR Ratios PD, Nonacc and Rest Loans-b 2007.csv\"  -c -t \",\" -r \"0x0a\" -S DESKTOP-192EHDA -T -F 2\n",
      "reading: FFIEC CDR UBPR Ratios PD, Nonacc and Rest Loans-b 2008.csv\n",
      "bcp Project2.dbo.UBPR_RatiosPD in \"d:/repos/Python/USCreditCard/Data/Generated/RatiosPD/FFIEC CDR UBPR Ratios PD, Nonacc and Rest Loans-b 2008.csv\"  -c -t \",\" -r \"0x0a\" -S DESKTOP-192EHDA -T -F 2\n",
      "reading: FFIEC CDR UBPR Ratios PD, Nonacc and Rest Loans-b 2009.csv\n",
      "bcp Project2.dbo.UBPR_RatiosPD in \"d:/repos/Python/USCreditCard/Data/Generated/RatiosPD/FFIEC CDR UBPR Ratios PD, Nonacc and Rest Loans-b 2009.csv\"  -c -t \",\" -r \"0x0a\" -S DESKTOP-192EHDA -T -F 2\n",
      "reading: FFIEC CDR UBPR Ratios PD, Nonacc and Rest Loans-b 2010.csv\n",
      "bcp Project2.dbo.UBPR_RatiosPD in \"d:/repos/Python/USCreditCard/Data/Generated/RatiosPD/FFIEC CDR UBPR Ratios PD, Nonacc and Rest Loans-b 2010.csv\"  -c -t \",\" -r \"0x0a\" -S DESKTOP-192EHDA -T -F 2\n",
      "reading: FFIEC CDR UBPR Ratios PD, Nonacc and Rest Loans-b 2011.csv\n",
      "bcp Project2.dbo.UBPR_RatiosPD in \"d:/repos/Python/USCreditCard/Data/Generated/RatiosPD/FFIEC CDR UBPR Ratios PD, Nonacc and Rest Loans-b 2011.csv\"  -c -t \",\" -r \"0x0a\" -S DESKTOP-192EHDA -T -F 2\n",
      "reading: FFIEC CDR UBPR Ratios PD, Nonacc and Rest Loans-b 2012.csv\n",
      "bcp Project2.dbo.UBPR_RatiosPD in \"d:/repos/Python/USCreditCard/Data/Generated/RatiosPD/FFIEC CDR UBPR Ratios PD, Nonacc and Rest Loans-b 2012.csv\"  -c -t \",\" -r \"0x0a\" -S DESKTOP-192EHDA -T -F 2\n",
      "reading: FFIEC CDR UBPR Ratios PD, Nonacc and Rest Loans-b 2013.csv\n",
      "bcp Project2.dbo.UBPR_RatiosPD in \"d:/repos/Python/USCreditCard/Data/Generated/RatiosPD/FFIEC CDR UBPR Ratios PD, Nonacc and Rest Loans-b 2013.csv\"  -c -t \",\" -r \"0x0a\" -S DESKTOP-192EHDA -T -F 2\n",
      "reading: FFIEC CDR UBPR Ratios PD, Nonacc and Rest Loans-b 2014.csv\n",
      "bcp Project2.dbo.UBPR_RatiosPD in \"d:/repos/Python/USCreditCard/Data/Generated/RatiosPD/FFIEC CDR UBPR Ratios PD, Nonacc and Rest Loans-b 2014.csv\"  -c -t \",\" -r \"0x0a\" -S DESKTOP-192EHDA -T -F 2\n",
      "reading: FFIEC CDR UBPR Ratios PD, Nonacc and Rest Loans-b 2015.csv\n",
      "bcp Project2.dbo.UBPR_RatiosPD in \"d:/repos/Python/USCreditCard/Data/Generated/RatiosPD/FFIEC CDR UBPR Ratios PD, Nonacc and Rest Loans-b 2015.csv\"  -c -t \",\" -r \"0x0a\" -S DESKTOP-192EHDA -T -F 2\n",
      "reading: FFIEC CDR UBPR Ratios PD, Nonacc and Rest Loans-b 2016.csv\n",
      "bcp Project2.dbo.UBPR_RatiosPD in \"d:/repos/Python/USCreditCard/Data/Generated/RatiosPD/FFIEC CDR UBPR Ratios PD, Nonacc and Rest Loans-b 2016.csv\"  -c -t \",\" -r \"0x0a\" -S DESKTOP-192EHDA -T -F 2\n",
      "reading: FFIEC CDR UBPR Ratios PD, Nonacc and Rest Loans-b 2017.csv\n",
      "bcp Project2.dbo.UBPR_RatiosPD in \"d:/repos/Python/USCreditCard/Data/Generated/RatiosPD/FFIEC CDR UBPR Ratios PD, Nonacc and Rest Loans-b 2017.csv\"  -c -t \",\" -r \"0x0a\" -S DESKTOP-192EHDA -T -F 2\n",
      "reading: FFIEC CDR UBPR Ratios PD, Nonacc and Rest Loans-b 2018.csv\n",
      "bcp Project2.dbo.UBPR_RatiosPD in \"d:/repos/Python/USCreditCard/Data/Generated/RatiosPD/FFIEC CDR UBPR Ratios PD, Nonacc and Rest Loans-b 2018.csv\"  -c -t \",\" -r \"0x0a\" -S DESKTOP-192EHDA -T -F 2\n",
      "reading: FFIEC CDR UBPR Ratios PD, Nonacc and Rest Loans-b 2019.csv\n",
      "bcp Project2.dbo.UBPR_RatiosPD in \"d:/repos/Python/USCreditCard/Data/Generated/RatiosPD/FFIEC CDR UBPR Ratios PD, Nonacc and Rest Loans-b 2019.csv\"  -c -t \",\" -r \"0x0a\" -S DESKTOP-192EHDA -T -F 2\n",
      "reading: FFIEC CDR UBPR Ratios PD, Nonacc and Rest Loans-b 2020.csv\n",
      "bcp Project2.dbo.UBPR_RatiosPD in \"d:/repos/Python/USCreditCard/Data/Generated/RatiosPD/FFIEC CDR UBPR Ratios PD, Nonacc and Rest Loans-b 2020.csv\"  -c -t \",\" -r \"0x0a\" -S DESKTOP-192EHDA -T -F 2\n",
      "reading: FFIEC CDR UBPR Ratios PD, Nonacc and Rest Loans-b 2021.csv\n",
      "bcp Project2.dbo.UBPR_RatiosPD in \"d:/repos/Python/USCreditCard/Data/Generated/RatiosPD/FFIEC CDR UBPR Ratios PD, Nonacc and Rest Loans-b 2021.csv\"  -c -t \",\" -r \"0x0a\" -S DESKTOP-192EHDA -T -F 2\n",
      "reading: FFIEC CDR UBPR Ratios PD, Nonacc and Rest Loans-b 2022.csv\n",
      "bcp Project2.dbo.UBPR_RatiosPD in \"d:/repos/Python/USCreditCard/Data/Generated/RatiosPD/FFIEC CDR UBPR Ratios PD, Nonacc and Rest Loans-b 2022.csv\"  -c -t \",\" -r \"0x0a\" -S DESKTOP-192EHDA -T -F 2\n",
      "reading: FFIEC CDR UBPR Ratios PD, Nonacc and Rest Loans-b 2023.csv\n",
      "bcp Project2.dbo.UBPR_RatiosPD in \"d:/repos/Python/USCreditCard/Data/Generated/RatiosPD/FFIEC CDR UBPR Ratios PD, Nonacc and Rest Loans-b 2023.csv\"  -c -t \",\" -r \"0x0a\" -S DESKTOP-192EHDA -T -F 2\n"
     ]
    }
   ],
   "source": [
    "ratio_pd_files = du.get_ffiec_files(Path(\"Data/BulkRatios/\"), pattern = \"FFIEC CDR UBPR Ratios PD, Nonacc and Rest Loans-b*.txt\", index_cols=['ID RSSD','Reporting Period'])\n",
    "du.save_ffiec_ubpr_data(ratio_pd_files, 'Data/Generated/RatiosPD/', overwrite = True)\n",
    "du.write_data_using_bcp('UBPR_RatiosPD', 'Data/Generated/RatiosPD/', truncate_table = True)"
   ]
  },
  {
   "cell_type": "code",
   "execution_count": null,
   "metadata": {},
   "outputs": [],
   "source": [
    "##files that have additional credit related measures\n",
    "misc_files = du.get_ffiec_files(Path(\"Data/BulkRatios/\"), pattern = \"FFIEC CDR UBPR Ratios Concept Not In Presentation*.txt\", index_cols=['ID RSSD','Reporting Period'])\n",
    "du.save_ffiec_ubpr_data(misc_files, 'Data/Generated/Misc/', sub_measures = ['UBPRB538'])\n",
    "off_balance_files = du.get_ffiec_files(Path(\"Data/BulkRatios/\"), pattern = \"FFIEC CDR UBPR Ratios Off Balance Sheet Items*.txt\", index_cols=['ID RSSD','Reporting Period'])\n",
    "du.save_ffiec_ubpr_data(off_balance_files, output_path = \"Data/Generated/Misc/\", sub_measures=['UBPRE263','UBPR3815'])     \n",
    "balance_dollar_files = du.get_ffiec_files(Path(\"Data/BulkRatios/\"), pattern = \"FFIEC CDR UBPR Ratios Balance Sheet dollar*.txt\", index_cols=['ID RSSD','Reporting Period'])\n",
    "du.save_ffiec_ubpr_data(balance_dollar_files, output_path = \"Data/Generated/Misc/\", sub_measures=['UBPRD665','UBPR3123'])   \n",
    "loan_mixa_files = du.get_ffiec_files(Path(\"Data/BulkRatios/\"), pattern = \"FFIEC CDR UBPR Ratios Allowance and Loan Mix-a*.txt\", index_cols=['ID RSSD','Reporting Period'])\n",
    "du.save_ffiec_ubpr_data(loan_mixa_files, 'Data/Generated/Misc/', sub_measures = ['UBPRE411'])\n",
    "loan_mixb_files = du.get_ffiec_files(Path(\"Data/BulkRatios/\"), pattern = \"FFIEC CDR UBPR Ratios Allowance and Loan Mix-b*.txt\", index_cols=['ID RSSD','Reporting Period'])\n",
    "du.save_ffiec_ubpr_data(loan_mixb_files, 'Data/Generated/Misc/', sub_measures = ['UBPRE425'])\n",
    "income_files = du.get_ffiec_files(Path(\"Data/BulkRatios/\"), pattern = \"FFIEC CDR UBPR Ratios Income Statement 1-Qtr-Ann*.txt\", index_cols=['ID RSSD','Reporting Period'])\n",
    "du.save_ffiec_ubpr_data(income_files, 'Data/Generated/Misc/', sub_measures = ['UBPRE681','UBPRE682','UBPRE683','UBPRE670'])\n",
    "du.write_data_using_bcp('UBPR_Credit_Card_Additions', 'Data/Generated/Misc/', truncate_table = True)                        "
   ]
  },
  {
   "cell_type": "code",
   "execution_count": 3,
   "metadata": {},
   "outputs": [],
   "source": [
    "income_files = du.get_ffiec_files(Path(\"Data/BulkRatios/\"), pattern = \"FFIEC CDR UBPR Ratios Income Statement 1-Qtr-Ann*.txt\", index_cols=['ID RSSD','Reporting Period'])\n",
    "du.save_ffiec_ubpr_data(income_files, 'Data/Generated/Misc/', sub_measures = ['UBPRE681','UBPRE682','UBPRE683','UBPRE670'])\n"
   ]
  },
  {
   "cell_type": "code",
   "execution_count": 4,
   "metadata": {},
   "outputs": [
    {
     "name": "stdout",
     "output_type": "stream",
     "text": [
      "reading: FFIEC CDR UBPR Ratios Income Statement 1-Qtr-Ann 2002.csv\n",
      "bcp Project2.dbo.UBPR_Credit_Card_Additions in \"d:/repos/Python/USCreditCard/Data/Generated/Misc/FFIEC CDR UBPR Ratios Income Statement 1-Qtr-Ann 2002.csv\"  -c -t \",\" -r \"0x0a\" -S DESKTOP-192EHDA -T -F 2\n",
      "reading: FFIEC CDR UBPR Ratios Income Statement 1-Qtr-Ann 2003.csv\n",
      "bcp Project2.dbo.UBPR_Credit_Card_Additions in \"d:/repos/Python/USCreditCard/Data/Generated/Misc/FFIEC CDR UBPR Ratios Income Statement 1-Qtr-Ann 2003.csv\"  -c -t \",\" -r \"0x0a\" -S DESKTOP-192EHDA -T -F 2\n",
      "reading: FFIEC CDR UBPR Ratios Income Statement 1-Qtr-Ann 2004.csv\n",
      "bcp Project2.dbo.UBPR_Credit_Card_Additions in \"d:/repos/Python/USCreditCard/Data/Generated/Misc/FFIEC CDR UBPR Ratios Income Statement 1-Qtr-Ann 2004.csv\"  -c -t \",\" -r \"0x0a\" -S DESKTOP-192EHDA -T -F 2\n",
      "reading: FFIEC CDR UBPR Ratios Income Statement 1-Qtr-Ann 2005.csv\n",
      "bcp Project2.dbo.UBPR_Credit_Card_Additions in \"d:/repos/Python/USCreditCard/Data/Generated/Misc/FFIEC CDR UBPR Ratios Income Statement 1-Qtr-Ann 2005.csv\"  -c -t \",\" -r \"0x0a\" -S DESKTOP-192EHDA -T -F 2\n",
      "reading: FFIEC CDR UBPR Ratios Income Statement 1-Qtr-Ann 2006.csv\n",
      "bcp Project2.dbo.UBPR_Credit_Card_Additions in \"d:/repos/Python/USCreditCard/Data/Generated/Misc/FFIEC CDR UBPR Ratios Income Statement 1-Qtr-Ann 2006.csv\"  -c -t \",\" -r \"0x0a\" -S DESKTOP-192EHDA -T -F 2\n",
      "reading: FFIEC CDR UBPR Ratios Income Statement 1-Qtr-Ann 2007.csv\n",
      "bcp Project2.dbo.UBPR_Credit_Card_Additions in \"d:/repos/Python/USCreditCard/Data/Generated/Misc/FFIEC CDR UBPR Ratios Income Statement 1-Qtr-Ann 2007.csv\"  -c -t \",\" -r \"0x0a\" -S DESKTOP-192EHDA -T -F 2\n",
      "reading: FFIEC CDR UBPR Ratios Income Statement 1-Qtr-Ann 2008.csv\n",
      "bcp Project2.dbo.UBPR_Credit_Card_Additions in \"d:/repos/Python/USCreditCard/Data/Generated/Misc/FFIEC CDR UBPR Ratios Income Statement 1-Qtr-Ann 2008.csv\"  -c -t \",\" -r \"0x0a\" -S DESKTOP-192EHDA -T -F 2\n",
      "reading: FFIEC CDR UBPR Ratios Income Statement 1-Qtr-Ann 2009.csv\n",
      "bcp Project2.dbo.UBPR_Credit_Card_Additions in \"d:/repos/Python/USCreditCard/Data/Generated/Misc/FFIEC CDR UBPR Ratios Income Statement 1-Qtr-Ann 2009.csv\"  -c -t \",\" -r \"0x0a\" -S DESKTOP-192EHDA -T -F 2\n",
      "reading: FFIEC CDR UBPR Ratios Income Statement 1-Qtr-Ann 2010.csv\n",
      "bcp Project2.dbo.UBPR_Credit_Card_Additions in \"d:/repos/Python/USCreditCard/Data/Generated/Misc/FFIEC CDR UBPR Ratios Income Statement 1-Qtr-Ann 2010.csv\"  -c -t \",\" -r \"0x0a\" -S DESKTOP-192EHDA -T -F 2\n",
      "reading: FFIEC CDR UBPR Ratios Income Statement 1-Qtr-Ann 2011.csv\n",
      "bcp Project2.dbo.UBPR_Credit_Card_Additions in \"d:/repos/Python/USCreditCard/Data/Generated/Misc/FFIEC CDR UBPR Ratios Income Statement 1-Qtr-Ann 2011.csv\"  -c -t \",\" -r \"0x0a\" -S DESKTOP-192EHDA -T -F 2\n",
      "reading: FFIEC CDR UBPR Ratios Income Statement 1-Qtr-Ann 2012.csv\n",
      "bcp Project2.dbo.UBPR_Credit_Card_Additions in \"d:/repos/Python/USCreditCard/Data/Generated/Misc/FFIEC CDR UBPR Ratios Income Statement 1-Qtr-Ann 2012.csv\"  -c -t \",\" -r \"0x0a\" -S DESKTOP-192EHDA -T -F 2\n",
      "reading: FFIEC CDR UBPR Ratios Income Statement 1-Qtr-Ann 2013.csv\n",
      "bcp Project2.dbo.UBPR_Credit_Card_Additions in \"d:/repos/Python/USCreditCard/Data/Generated/Misc/FFIEC CDR UBPR Ratios Income Statement 1-Qtr-Ann 2013.csv\"  -c -t \",\" -r \"0x0a\" -S DESKTOP-192EHDA -T -F 2\n",
      "reading: FFIEC CDR UBPR Ratios Income Statement 1-Qtr-Ann 2014.csv\n",
      "bcp Project2.dbo.UBPR_Credit_Card_Additions in \"d:/repos/Python/USCreditCard/Data/Generated/Misc/FFIEC CDR UBPR Ratios Income Statement 1-Qtr-Ann 2014.csv\"  -c -t \",\" -r \"0x0a\" -S DESKTOP-192EHDA -T -F 2\n",
      "reading: FFIEC CDR UBPR Ratios Income Statement 1-Qtr-Ann 2015.csv\n",
      "bcp Project2.dbo.UBPR_Credit_Card_Additions in \"d:/repos/Python/USCreditCard/Data/Generated/Misc/FFIEC CDR UBPR Ratios Income Statement 1-Qtr-Ann 2015.csv\"  -c -t \",\" -r \"0x0a\" -S DESKTOP-192EHDA -T -F 2\n",
      "reading: FFIEC CDR UBPR Ratios Income Statement 1-Qtr-Ann 2016.csv\n",
      "bcp Project2.dbo.UBPR_Credit_Card_Additions in \"d:/repos/Python/USCreditCard/Data/Generated/Misc/FFIEC CDR UBPR Ratios Income Statement 1-Qtr-Ann 2016.csv\"  -c -t \",\" -r \"0x0a\" -S DESKTOP-192EHDA -T -F 2\n",
      "reading: FFIEC CDR UBPR Ratios Income Statement 1-Qtr-Ann 2017.csv\n",
      "bcp Project2.dbo.UBPR_Credit_Card_Additions in \"d:/repos/Python/USCreditCard/Data/Generated/Misc/FFIEC CDR UBPR Ratios Income Statement 1-Qtr-Ann 2017.csv\"  -c -t \",\" -r \"0x0a\" -S DESKTOP-192EHDA -T -F 2\n",
      "reading: FFIEC CDR UBPR Ratios Income Statement 1-Qtr-Ann 2018.csv\n",
      "bcp Project2.dbo.UBPR_Credit_Card_Additions in \"d:/repos/Python/USCreditCard/Data/Generated/Misc/FFIEC CDR UBPR Ratios Income Statement 1-Qtr-Ann 2018.csv\"  -c -t \",\" -r \"0x0a\" -S DESKTOP-192EHDA -T -F 2\n",
      "reading: FFIEC CDR UBPR Ratios Income Statement 1-Qtr-Ann 2019.csv\n",
      "bcp Project2.dbo.UBPR_Credit_Card_Additions in \"d:/repos/Python/USCreditCard/Data/Generated/Misc/FFIEC CDR UBPR Ratios Income Statement 1-Qtr-Ann 2019.csv\"  -c -t \",\" -r \"0x0a\" -S DESKTOP-192EHDA -T -F 2\n",
      "reading: FFIEC CDR UBPR Ratios Income Statement 1-Qtr-Ann 2020.csv\n",
      "bcp Project2.dbo.UBPR_Credit_Card_Additions in \"d:/repos/Python/USCreditCard/Data/Generated/Misc/FFIEC CDR UBPR Ratios Income Statement 1-Qtr-Ann 2020.csv\"  -c -t \",\" -r \"0x0a\" -S DESKTOP-192EHDA -T -F 2\n",
      "reading: FFIEC CDR UBPR Ratios Income Statement 1-Qtr-Ann 2021.csv\n",
      "bcp Project2.dbo.UBPR_Credit_Card_Additions in \"d:/repos/Python/USCreditCard/Data/Generated/Misc/FFIEC CDR UBPR Ratios Income Statement 1-Qtr-Ann 2021.csv\"  -c -t \",\" -r \"0x0a\" -S DESKTOP-192EHDA -T -F 2\n",
      "reading: FFIEC CDR UBPR Ratios Income Statement 1-Qtr-Ann 2022.csv\n",
      "bcp Project2.dbo.UBPR_Credit_Card_Additions in \"d:/repos/Python/USCreditCard/Data/Generated/Misc/FFIEC CDR UBPR Ratios Income Statement 1-Qtr-Ann 2022.csv\"  -c -t \",\" -r \"0x0a\" -S DESKTOP-192EHDA -T -F 2\n",
      "reading: FFIEC CDR UBPR Ratios Income Statement 1-Qtr-Ann 2023.csv\n",
      "bcp Project2.dbo.UBPR_Credit_Card_Additions in \"d:/repos/Python/USCreditCard/Data/Generated/Misc/FFIEC CDR UBPR Ratios Income Statement 1-Qtr-Ann 2023.csv\"  -c -t \",\" -r \"0x0a\" -S DESKTOP-192EHDA -T -F 2\n"
     ]
    }
   ],
   "source": [
    "du.write_data_using_bcp('UBPR_Credit_Card_Additions', 'Data/Generated/Misc/', truncate_table = False)     "
   ]
  },
  {
   "cell_type": "code",
   "execution_count": 2,
   "metadata": {},
   "outputs": [],
   "source": [
    "#backup subset of credit card related data to csv and parquet\n",
    "query = \"\"\"SELECT [IDRSSD]\n",
    "      ,[Financial Institution Name]\n",
    "      ,[ReportingPeriod]\n",
    "      ,[Measure]\n",
    "      ,[Label]\n",
    "      ,[Description]\n",
    "      ,[Numeric_Value]\n",
    "      ,[BankType]\n",
    "    FROM [dbo].[UBPR_CreditCard_V]\n",
    "    \"\"\"\n",
    "du.save_db_data_file(query, file_name = \"UBPR_CreditCard_V\",output_path= Path('D:/repos/Python/USCreditCard/Data/'))"
   ]
  },
  {
   "cell_type": "code",
   "execution_count": 3,
   "metadata": {},
   "outputs": [],
   "source": [
    "#backup summary ratios to csv and parquet\n",
    "query2 = \"\"\"SELECT [IDRSSD]\n",
    "      ,[Financial Institution Name]\n",
    "      ,[ReportingPeriod]\n",
    "      ,[Measure]\n",
    "      ,[Label]\n",
    "      ,[Description]\n",
    "      ,[Numeric_Value]\n",
    "      ,[BankType]\n",
    "    FROM [dbo].[UBPR_Ratios_V]\n",
    "    \"\"\"\n",
    "du.save_db_data_file(query2, file_name = \"UBPR_Ratios_V\",output_path= Path('D:/repos/Python/USCreditCard/Data/'))"
   ]
  }
 ],
 "metadata": {
  "kernelspec": {
   "display_name": "USCreditCard",
   "language": "python",
   "name": "python3"
  },
  "language_info": {
   "codemirror_mode": {
    "name": "ipython",
    "version": 3
   },
   "file_extension": ".py",
   "mimetype": "text/x-python",
   "name": "python",
   "nbconvert_exporter": "python",
   "pygments_lexer": "ipython3",
   "version": "3.11.5"
  }
 },
 "nbformat": 4,
 "nbformat_minor": 2
}
